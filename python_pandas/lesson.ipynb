{
 "cells": [
  {
   "cell_type": "markdown",
   "metadata": {},
   "source": [
    "# Importing Pandas"
   ]
  },
  {
   "cell_type": "code",
   "execution_count": 1,
   "metadata": {},
   "outputs": [],
   "source": [
    "import pandas as pd"
   ]
  },
  {
   "cell_type": "markdown",
   "metadata": {},
   "source": [
    "# Reading CSV files"
   ]
  },
  {
   "cell_type": "code",
   "execution_count": 2,
   "metadata": {},
   "outputs": [],
   "source": [
    "df = pd.read_csv(\"people.csv\")"
   ]
  },
  {
   "cell_type": "code",
   "execution_count": 3,
   "metadata": {},
   "outputs": [
    {
     "data": {
      "text/html": [
       "<div>\n",
       "<style scoped>\n",
       "    .dataframe tbody tr th:only-of-type {\n",
       "        vertical-align: middle;\n",
       "    }\n",
       "\n",
       "    .dataframe tbody tr th {\n",
       "        vertical-align: top;\n",
       "    }\n",
       "\n",
       "    .dataframe thead th {\n",
       "        text-align: right;\n",
       "    }\n",
       "</style>\n",
       "<table border=\"1\" class=\"dataframe\">\n",
       "  <thead>\n",
       "    <tr style=\"text-align: right;\">\n",
       "      <th></th>\n",
       "      <th>ID</th>\n",
       "      <th>Name</th>\n",
       "      <th>Affiliations</th>\n",
       "    </tr>\n",
       "  </thead>\n",
       "  <tbody>\n",
       "    <tr>\n",
       "      <td>0</td>\n",
       "      <td>P8041475</td>\n",
       "      <td>William Edward Acraman</td>\n",
       "      <td>BCC:GWR</td>\n",
       "    </tr>\n",
       "    <tr>\n",
       "      <td>1</td>\n",
       "      <td>Pe822a27</td>\n",
       "      <td>William Bruce Adair</td>\n",
       "      <td></td>\n",
       "    </tr>\n",
       "    <tr>\n",
       "      <td>2</td>\n",
       "      <td>P5a180b0</td>\n",
       "      <td>Thomas Kington Bayly</td>\n",
       "      <td></td>\n",
       "    </tr>\n",
       "    <tr>\n",
       "      <td>3</td>\n",
       "      <td>P4fe27a3</td>\n",
       "      <td>Thomas Baynton</td>\n",
       "      <td></td>\n",
       "    </tr>\n",
       "    <tr>\n",
       "      <td>4</td>\n",
       "      <td>P1592273</td>\n",
       "      <td>Robert Bright</td>\n",
       "      <td>BCC:GWR</td>\n",
       "    </tr>\n",
       "  </tbody>\n",
       "</table>\n",
       "</div>"
      ],
      "text/plain": [
       "         ID                     Name Affiliations\n",
       "0  P8041475   William Edward Acraman      BCC:GWR\n",
       "1  Pe822a27      William Bruce Adair             \n",
       "2  P5a180b0     Thomas Kington Bayly             \n",
       "3  P4fe27a3           Thomas Baynton             \n",
       "4  P1592273            Robert Bright      BCC:GWR"
      ]
     },
     "execution_count": 3,
     "metadata": {},
     "output_type": "execute_result"
    }
   ],
   "source": [
    "df.head()"
   ]
  },
  {
   "cell_type": "code",
   "execution_count": 4,
   "metadata": {},
   "outputs": [
    {
     "data": {
      "text/html": [
       "<div>\n",
       "<style scoped>\n",
       "    .dataframe tbody tr th:only-of-type {\n",
       "        vertical-align: middle;\n",
       "    }\n",
       "\n",
       "    .dataframe tbody tr th {\n",
       "        vertical-align: top;\n",
       "    }\n",
       "\n",
       "    .dataframe thead th {\n",
       "        text-align: right;\n",
       "    }\n",
       "</style>\n",
       "<table border=\"1\" class=\"dataframe\">\n",
       "  <thead>\n",
       "    <tr style=\"text-align: right;\">\n",
       "      <th></th>\n",
       "      <th>ID</th>\n",
       "      <th>Name</th>\n",
       "      <th>Affiliations</th>\n",
       "    </tr>\n",
       "  </thead>\n",
       "  <tbody>\n",
       "    <tr>\n",
       "      <td>70</td>\n",
       "      <td>P57b2427</td>\n",
       "      <td>George Rennie</td>\n",
       "      <td></td>\n",
       "    </tr>\n",
       "    <tr>\n",
       "      <td>71</td>\n",
       "      <td>P8d92578</td>\n",
       "      <td>Francis Petit Smith</td>\n",
       "      <td></td>\n",
       "    </tr>\n",
       "    <tr>\n",
       "      <td>72</td>\n",
       "      <td>P6b95eb4</td>\n",
       "      <td>Mr. Smith</td>\n",
       "      <td></td>\n",
       "    </tr>\n",
       "    <tr>\n",
       "      <td>73</td>\n",
       "      <td>P2ac1cdd</td>\n",
       "      <td>Mr. Stedder</td>\n",
       "      <td>GWR</td>\n",
       "    </tr>\n",
       "    <tr>\n",
       "      <td>74</td>\n",
       "      <td>Pef9ff39</td>\n",
       "      <td>Robert Stepehnson</td>\n",
       "      <td>GWR</td>\n",
       "    </tr>\n",
       "  </tbody>\n",
       "</table>\n",
       "</div>"
      ],
      "text/plain": [
       "          ID                  Name Affiliations\n",
       "70  P57b2427         George Rennie             \n",
       "71  P8d92578   Francis Petit Smith             \n",
       "72  P6b95eb4             Mr. Smith             \n",
       "73  P2ac1cdd           Mr. Stedder          GWR\n",
       "74  Pef9ff39     Robert Stepehnson          GWR"
      ]
     },
     "execution_count": 4,
     "metadata": {},
     "output_type": "execute_result"
    }
   ],
   "source": [
    "df.tail()"
   ]
  },
  {
   "cell_type": "code",
   "execution_count": 5,
   "metadata": {},
   "outputs": [
    {
     "data": {
      "text/plain": [
       "0     P8041475\n",
       "1     Pe822a27\n",
       "2     P5a180b0\n",
       "3     P4fe27a3\n",
       "4     P1592273\n",
       "        ...   \n",
       "70    P57b2427\n",
       "71    P8d92578\n",
       "72    P6b95eb4\n",
       "73    P2ac1cdd\n",
       "74    Pef9ff39\n",
       "Name: ID, Length: 75, dtype: object"
      ]
     },
     "execution_count": 5,
     "metadata": {},
     "output_type": "execute_result"
    }
   ],
   "source": [
    "df[\"ID\"]"
   ]
  },
  {
   "cell_type": "code",
   "execution_count": 6,
   "metadata": {},
   "outputs": [
    {
     "data": {
      "text/html": [
       "<div>\n",
       "<style scoped>\n",
       "    .dataframe tbody tr th:only-of-type {\n",
       "        vertical-align: middle;\n",
       "    }\n",
       "\n",
       "    .dataframe tbody tr th {\n",
       "        vertical-align: top;\n",
       "    }\n",
       "\n",
       "    .dataframe thead th {\n",
       "        text-align: right;\n",
       "    }\n",
       "</style>\n",
       "<table border=\"1\" class=\"dataframe\">\n",
       "  <thead>\n",
       "    <tr style=\"text-align: right;\">\n",
       "      <th></th>\n",
       "      <th>ID</th>\n",
       "      <th>Name</th>\n",
       "      <th>Affiliations</th>\n",
       "    </tr>\n",
       "  </thead>\n",
       "  <tbody>\n",
       "    <tr>\n",
       "      <td>0</td>\n",
       "      <td>P8041475</td>\n",
       "      <td>William Edward Acraman</td>\n",
       "      <td>BCC:GWR</td>\n",
       "    </tr>\n",
       "    <tr>\n",
       "      <td>1</td>\n",
       "      <td>Pe822a27</td>\n",
       "      <td>William Bruce Adair</td>\n",
       "      <td></td>\n",
       "    </tr>\n",
       "    <tr>\n",
       "      <td>2</td>\n",
       "      <td>P5a180b0</td>\n",
       "      <td>Thomas Kington Bayly</td>\n",
       "      <td></td>\n",
       "    </tr>\n",
       "    <tr>\n",
       "      <td>3</td>\n",
       "      <td>P4fe27a3</td>\n",
       "      <td>Thomas Baynton</td>\n",
       "      <td></td>\n",
       "    </tr>\n",
       "  </tbody>\n",
       "</table>\n",
       "</div>"
      ],
      "text/plain": [
       "         ID                     Name Affiliations\n",
       "0  P8041475   William Edward Acraman      BCC:GWR\n",
       "1  Pe822a27      William Bruce Adair             \n",
       "2  P5a180b0     Thomas Kington Bayly             \n",
       "3  P4fe27a3           Thomas Baynton             "
      ]
     },
     "execution_count": 6,
     "metadata": {},
     "output_type": "execute_result"
    }
   ],
   "source": [
    "df.loc[0:3]"
   ]
  },
  {
   "cell_type": "code",
   "execution_count": 7,
   "metadata": {},
   "outputs": [
    {
     "data": {
      "text/plain": [
       "ID                             P8041475\n",
       "Name             William Edward Acraman\n",
       "Affiliations                    BCC:GWR\n",
       "Name: 0, dtype: object"
      ]
     },
     "execution_count": 7,
     "metadata": {},
     "output_type": "execute_result"
    }
   ],
   "source": [
    "df.loc[0]"
   ]
  },
  {
   "cell_type": "code",
   "execution_count": 8,
   "metadata": {},
   "outputs": [
    {
     "data": {
      "text/plain": [
       "'P8041475'"
      ]
     },
     "execution_count": 8,
     "metadata": {},
     "output_type": "execute_result"
    }
   ],
   "source": [
    "df.loc[0, \"ID\"]"
   ]
  },
  {
   "cell_type": "code",
   "execution_count": 9,
   "metadata": {},
   "outputs": [
    {
     "data": {
      "text/plain": [
       "ID                     P8041475\n",
       "Name     William Edward Acraman\n",
       "Name: 0, dtype: object"
      ]
     },
     "execution_count": 9,
     "metadata": {},
     "output_type": "execute_result"
    }
   ],
   "source": [
    "df.loc[0, [\"ID\", \"Name\"]]"
   ]
  },
  {
   "cell_type": "code",
   "execution_count": 10,
   "metadata": {},
   "outputs": [
    {
     "data": {
      "text/plain": [
       "'P8041475'"
      ]
     },
     "execution_count": 10,
     "metadata": {},
     "output_type": "execute_result"
    }
   ],
   "source": [
    "df.loc[0][\"ID\"]"
   ]
  },
  {
   "cell_type": "code",
   "execution_count": 11,
   "metadata": {},
   "outputs": [
    {
     "data": {
      "text/plain": [
       "'P8041475'"
      ]
     },
     "execution_count": 11,
     "metadata": {},
     "output_type": "execute_result"
    }
   ],
   "source": [
    "df[\"ID\"].loc[0]"
   ]
  },
  {
   "cell_type": "markdown",
   "metadata": {},
   "source": [
    "# Selecting by Searching"
   ]
  },
  {
   "cell_type": "code",
   "execution_count": 12,
   "metadata": {},
   "outputs": [
    {
     "data": {
      "text/html": [
       "<div>\n",
       "<style scoped>\n",
       "    .dataframe tbody tr th:only-of-type {\n",
       "        vertical-align: middle;\n",
       "    }\n",
       "\n",
       "    .dataframe tbody tr th {\n",
       "        vertical-align: top;\n",
       "    }\n",
       "\n",
       "    .dataframe thead th {\n",
       "        text-align: right;\n",
       "    }\n",
       "</style>\n",
       "<table border=\"1\" class=\"dataframe\">\n",
       "  <thead>\n",
       "    <tr style=\"text-align: right;\">\n",
       "      <th></th>\n",
       "      <th>ID</th>\n",
       "      <th>Name</th>\n",
       "      <th>Affiliations</th>\n",
       "    </tr>\n",
       "  </thead>\n",
       "  <tbody>\n",
       "    <tr>\n",
       "      <td>2</td>\n",
       "      <td>P5a180b0</td>\n",
       "      <td>Thomas Kington Bayly</td>\n",
       "      <td></td>\n",
       "    </tr>\n",
       "  </tbody>\n",
       "</table>\n",
       "</div>"
      ],
      "text/plain": [
       "         ID                   Name Affiliations\n",
       "2  P5a180b0   Thomas Kington Bayly             "
      ]
     },
     "execution_count": 12,
     "metadata": {},
     "output_type": "execute_result"
    }
   ],
   "source": [
    "df[ df[\"ID\"] == \"P5a180b0\" ]"
   ]
  },
  {
   "cell_type": "code",
   "execution_count": 13,
   "metadata": {},
   "outputs": [
    {
     "data": {
      "text/html": [
       "<div>\n",
       "<style scoped>\n",
       "    .dataframe tbody tr th:only-of-type {\n",
       "        vertical-align: middle;\n",
       "    }\n",
       "\n",
       "    .dataframe tbody tr th {\n",
       "        vertical-align: top;\n",
       "    }\n",
       "\n",
       "    .dataframe thead th {\n",
       "        text-align: right;\n",
       "    }\n",
       "</style>\n",
       "<table border=\"1\" class=\"dataframe\">\n",
       "  <thead>\n",
       "    <tr style=\"text-align: right;\">\n",
       "      <th></th>\n",
       "      <th>ID</th>\n",
       "      <th>Name</th>\n",
       "      <th>Affiliations</th>\n",
       "    </tr>\n",
       "  </thead>\n",
       "  <tbody>\n",
       "    <tr>\n",
       "      <td>5</td>\n",
       "      <td>Pbb00e87</td>\n",
       "      <td>Isambard Kingdom Brunel</td>\n",
       "      <td>BDC:GWR</td>\n",
       "    </tr>\n",
       "  </tbody>\n",
       "</table>\n",
       "</div>"
      ],
      "text/plain": [
       "         ID                      Name Affiliations\n",
       "5  Pbb00e87   Isambard Kingdom Brunel      BDC:GWR"
      ]
     },
     "execution_count": 13,
     "metadata": {},
     "output_type": "execute_result"
    }
   ],
   "source": [
    "df[ df[\"Name\"].str.contains(\"Brunel\") ]"
   ]
  },
  {
   "cell_type": "code",
   "execution_count": 14,
   "metadata": {},
   "outputs": [
    {
     "data": {
      "text/html": [
       "<div>\n",
       "<style scoped>\n",
       "    .dataframe tbody tr th:only-of-type {\n",
       "        vertical-align: middle;\n",
       "    }\n",
       "\n",
       "    .dataframe tbody tr th {\n",
       "        vertical-align: top;\n",
       "    }\n",
       "\n",
       "    .dataframe thead th {\n",
       "        text-align: right;\n",
       "    }\n",
       "</style>\n",
       "<table border=\"1\" class=\"dataframe\">\n",
       "  <thead>\n",
       "    <tr style=\"text-align: right;\">\n",
       "      <th></th>\n",
       "      <th>ID</th>\n",
       "      <th>Name</th>\n",
       "      <th>Affiliations</th>\n",
       "    </tr>\n",
       "  </thead>\n",
       "  <tbody>\n",
       "    <tr>\n",
       "      <td>5</td>\n",
       "      <td>Pbb00e87</td>\n",
       "      <td>Isambard Kingdom Brunel</td>\n",
       "      <td>BDC:GWR</td>\n",
       "    </tr>\n",
       "  </tbody>\n",
       "</table>\n",
       "</div>"
      ],
      "text/plain": [
       "         ID                      Name Affiliations\n",
       "5  Pbb00e87   Isambard Kingdom Brunel      BDC:GWR"
      ]
     },
     "execution_count": 14,
     "metadata": {},
     "output_type": "execute_result"
    }
   ],
   "source": [
    "df[ df[\"Name\"].str.contains(\"brunel\", case=False) ]"
   ]
  },
  {
   "cell_type": "code",
   "execution_count": 15,
   "metadata": {},
   "outputs": [
    {
     "data": {
      "text/html": [
       "<div>\n",
       "<style scoped>\n",
       "    .dataframe tbody tr th:only-of-type {\n",
       "        vertical-align: middle;\n",
       "    }\n",
       "\n",
       "    .dataframe tbody tr th {\n",
       "        vertical-align: top;\n",
       "    }\n",
       "\n",
       "    .dataframe thead th {\n",
       "        text-align: right;\n",
       "    }\n",
       "</style>\n",
       "<table border=\"1\" class=\"dataframe\">\n",
       "  <thead>\n",
       "    <tr style=\"text-align: right;\">\n",
       "      <th></th>\n",
       "      <th>ID</th>\n",
       "      <th>Name</th>\n",
       "      <th>Affiliations</th>\n",
       "    </tr>\n",
       "  </thead>\n",
       "  <tbody>\n",
       "    <tr>\n",
       "      <td>10</td>\n",
       "      <td>P31a70ec</td>\n",
       "      <td>Christopher Claxton</td>\n",
       "      <td>BDC</td>\n",
       "    </tr>\n",
       "    <tr>\n",
       "      <td>11</td>\n",
       "      <td>P4ddfbf9</td>\n",
       "      <td>William Claxton</td>\n",
       "      <td>SMV</td>\n",
       "    </tr>\n",
       "  </tbody>\n",
       "</table>\n",
       "</div>"
      ],
      "text/plain": [
       "          ID                  Name Affiliations\n",
       "10  P31a70ec   Christopher Claxton          BDC\n",
       "11  P4ddfbf9       William Claxton          SMV"
      ]
     },
     "execution_count": 15,
     "metadata": {},
     "output_type": "execute_result"
    }
   ],
   "source": [
    "df[ df[\"Name\"].str.contains(\"claxton\", case=False) ]"
   ]
  },
  {
   "cell_type": "code",
   "execution_count": 16,
   "metadata": {},
   "outputs": [
    {
     "data": {
      "text/plain": [
       "ID                          P31a70ec\n",
       "Name             Christopher Claxton\n",
       "Affiliations                     BDC\n",
       "Name: 10, dtype: object"
      ]
     },
     "execution_count": 16,
     "metadata": {},
     "output_type": "execute_result"
    }
   ],
   "source": [
    "df[ df[\"Name\"].str.contains(\"claxton\", case=False) ].loc[10]"
   ]
  },
  {
   "cell_type": "code",
   "execution_count": 17,
   "metadata": {},
   "outputs": [
    {
     "data": {
      "text/plain": [
       "ID                          P31a70ec\n",
       "Name             Christopher Claxton\n",
       "Affiliations                     BDC\n",
       "Name: 10, dtype: object"
      ]
     },
     "execution_count": 17,
     "metadata": {},
     "output_type": "execute_result"
    }
   ],
   "source": [
    "df[ df[\"Name\"].str.contains(\"claxton\", case=False) ].iloc[0]"
   ]
  },
  {
   "cell_type": "code",
   "execution_count": 18,
   "metadata": {},
   "outputs": [
    {
     "data": {
      "text/html": [
       "<div>\n",
       "<style scoped>\n",
       "    .dataframe tbody tr th:only-of-type {\n",
       "        vertical-align: middle;\n",
       "    }\n",
       "\n",
       "    .dataframe tbody tr th {\n",
       "        vertical-align: top;\n",
       "    }\n",
       "\n",
       "    .dataframe thead th {\n",
       "        text-align: right;\n",
       "    }\n",
       "</style>\n",
       "<table border=\"1\" class=\"dataframe\">\n",
       "  <thead>\n",
       "    <tr style=\"text-align: right;\">\n",
       "      <th></th>\n",
       "      <th>ID</th>\n",
       "      <th>Name</th>\n",
       "      <th>Affiliations</th>\n",
       "    </tr>\n",
       "  </thead>\n",
       "  <tbody>\n",
       "    <tr>\n",
       "      <td>10</td>\n",
       "      <td>P31a70ec</td>\n",
       "      <td>Christopher Claxton</td>\n",
       "      <td>BDC</td>\n",
       "    </tr>\n",
       "  </tbody>\n",
       "</table>\n",
       "</div>"
      ],
      "text/plain": [
       "          ID                  Name Affiliations\n",
       "10  P31a70ec   Christopher Claxton          BDC"
      ]
     },
     "execution_count": 18,
     "metadata": {},
     "output_type": "execute_result"
    }
   ],
   "source": [
    "df[ df[\"Name\"].str.contains(r\"chris.*clax\", case=False) ]"
   ]
  },
  {
   "cell_type": "code",
   "execution_count": 19,
   "metadata": {},
   "outputs": [
    {
     "data": {
      "text/html": [
       "<div>\n",
       "<style scoped>\n",
       "    .dataframe tbody tr th:only-of-type {\n",
       "        vertical-align: middle;\n",
       "    }\n",
       "\n",
       "    .dataframe tbody tr th {\n",
       "        vertical-align: top;\n",
       "    }\n",
       "\n",
       "    .dataframe thead th {\n",
       "        text-align: right;\n",
       "    }\n",
       "</style>\n",
       "<table border=\"1\" class=\"dataframe\">\n",
       "  <thead>\n",
       "    <tr style=\"text-align: right;\">\n",
       "      <th></th>\n",
       "      <th>ID</th>\n",
       "      <th>Name</th>\n",
       "      <th>Affiliations</th>\n",
       "    </tr>\n",
       "  </thead>\n",
       "  <tbody>\n",
       "    <tr>\n",
       "      <td>5</td>\n",
       "      <td>Pbb00e87</td>\n",
       "      <td>Isambard Kingdom Brunel</td>\n",
       "      <td>BDC:GWR</td>\n",
       "    </tr>\n",
       "  </tbody>\n",
       "</table>\n",
       "</div>"
      ],
      "text/plain": [
       "         ID                      Name Affiliations\n",
       "5  Pbb00e87   Isambard Kingdom Brunel      BDC:GWR"
      ]
     },
     "execution_count": 19,
     "metadata": {},
     "output_type": "execute_result"
    }
   ],
   "source": [
    "df[ df[\"Name\"].str.endswith(\"nel\") ]"
   ]
  },
  {
   "cell_type": "markdown",
   "metadata": {},
   "source": [
    "# Fixing Data"
   ]
  },
  {
   "cell_type": "code",
   "execution_count": 20,
   "metadata": {},
   "outputs": [
    {
     "data": {
      "text/html": [
       "<div>\n",
       "<style scoped>\n",
       "    .dataframe tbody tr th:only-of-type {\n",
       "        vertical-align: middle;\n",
       "    }\n",
       "\n",
       "    .dataframe tbody tr th {\n",
       "        vertical-align: top;\n",
       "    }\n",
       "\n",
       "    .dataframe thead th {\n",
       "        text-align: right;\n",
       "    }\n",
       "</style>\n",
       "<table border=\"1\" class=\"dataframe\">\n",
       "  <thead>\n",
       "    <tr style=\"text-align: right;\">\n",
       "      <th></th>\n",
       "      <th>ID</th>\n",
       "      <th>Name</th>\n",
       "      <th>Affiliations</th>\n",
       "    </tr>\n",
       "  </thead>\n",
       "  <tbody>\n",
       "  </tbody>\n",
       "</table>\n",
       "</div>"
      ],
      "text/plain": [
       "Empty DataFrame\n",
       "Columns: [ID, Name, Affiliations]\n",
       "Index: []"
      ]
     },
     "execution_count": 20,
     "metadata": {},
     "output_type": "execute_result"
    }
   ],
   "source": [
    "df[ df[\"Name\"].str.startswith(\"Isam\") ]"
   ]
  },
  {
   "cell_type": "code",
   "execution_count": 21,
   "metadata": {},
   "outputs": [
    {
     "data": {
      "text/html": [
       "<div>\n",
       "<style scoped>\n",
       "    .dataframe tbody tr th:only-of-type {\n",
       "        vertical-align: middle;\n",
       "    }\n",
       "\n",
       "    .dataframe tbody tr th {\n",
       "        vertical-align: top;\n",
       "    }\n",
       "\n",
       "    .dataframe thead th {\n",
       "        text-align: right;\n",
       "    }\n",
       "</style>\n",
       "<table border=\"1\" class=\"dataframe\">\n",
       "  <thead>\n",
       "    <tr style=\"text-align: right;\">\n",
       "      <th></th>\n",
       "      <th>ID</th>\n",
       "      <th>Name</th>\n",
       "      <th>Affiliations</th>\n",
       "    </tr>\n",
       "  </thead>\n",
       "  <tbody>\n",
       "    <tr>\n",
       "      <td>5</td>\n",
       "      <td>Pbb00e87</td>\n",
       "      <td>Isambard Kingdom Brunel</td>\n",
       "      <td>BDC:GWR</td>\n",
       "    </tr>\n",
       "  </tbody>\n",
       "</table>\n",
       "</div>"
      ],
      "text/plain": [
       "         ID                      Name Affiliations\n",
       "5  Pbb00e87   Isambard Kingdom Brunel      BDC:GWR"
      ]
     },
     "execution_count": 21,
     "metadata": {},
     "output_type": "execute_result"
    }
   ],
   "source": [
    "df[ df[\"Name\"].str.startswith(\" Isam\") ]"
   ]
  },
  {
   "cell_type": "code",
   "execution_count": 22,
   "metadata": {},
   "outputs": [],
   "source": [
    "df = pd.read_csv(\"people.csv\", skipinitialspace=True)"
   ]
  },
  {
   "cell_type": "code",
   "execution_count": 23,
   "metadata": {},
   "outputs": [
    {
     "data": {
      "text/html": [
       "<div>\n",
       "<style scoped>\n",
       "    .dataframe tbody tr th:only-of-type {\n",
       "        vertical-align: middle;\n",
       "    }\n",
       "\n",
       "    .dataframe tbody tr th {\n",
       "        vertical-align: top;\n",
       "    }\n",
       "\n",
       "    .dataframe thead th {\n",
       "        text-align: right;\n",
       "    }\n",
       "</style>\n",
       "<table border=\"1\" class=\"dataframe\">\n",
       "  <thead>\n",
       "    <tr style=\"text-align: right;\">\n",
       "      <th></th>\n",
       "      <th>ID</th>\n",
       "      <th>Name</th>\n",
       "      <th>Affiliations</th>\n",
       "    </tr>\n",
       "  </thead>\n",
       "  <tbody>\n",
       "    <tr>\n",
       "      <td>5</td>\n",
       "      <td>Pbb00e87</td>\n",
       "      <td>Isambard Kingdom Brunel</td>\n",
       "      <td>BDC:GWR</td>\n",
       "    </tr>\n",
       "  </tbody>\n",
       "</table>\n",
       "</div>"
      ],
      "text/plain": [
       "         ID                     Name Affiliations\n",
       "5  Pbb00e87  Isambard Kingdom Brunel      BDC:GWR"
      ]
     },
     "execution_count": 23,
     "metadata": {},
     "output_type": "execute_result"
    }
   ],
   "source": [
    "df[ df[\"Name\"].str.startswith(\"Isam\") ]"
   ]
  },
  {
   "cell_type": "markdown",
   "metadata": {},
   "source": [
    "# Joining Data"
   ]
  },
  {
   "cell_type": "code",
   "execution_count": 24,
   "metadata": {},
   "outputs": [],
   "source": [
    "bios = pd.read_csv(\"biographies.tsv\", sep=\"\\t\", skipinitialspace=True)"
   ]
  },
  {
   "cell_type": "code",
   "execution_count": 25,
   "metadata": {},
   "outputs": [],
   "source": [
    "df = pd.merge(df, bios, on=\"ID\")"
   ]
  },
  {
   "cell_type": "code",
   "execution_count": 26,
   "metadata": {},
   "outputs": [
    {
     "data": {
      "text/html": [
       "<div>\n",
       "<style scoped>\n",
       "    .dataframe tbody tr th:only-of-type {\n",
       "        vertical-align: middle;\n",
       "    }\n",
       "\n",
       "    .dataframe tbody tr th {\n",
       "        vertical-align: top;\n",
       "    }\n",
       "\n",
       "    .dataframe thead th {\n",
       "        text-align: right;\n",
       "    }\n",
       "</style>\n",
       "<table border=\"1\" class=\"dataframe\">\n",
       "  <thead>\n",
       "    <tr style=\"text-align: right;\">\n",
       "      <th></th>\n",
       "      <th>ID</th>\n",
       "      <th>Name</th>\n",
       "      <th>Affiliations</th>\n",
       "      <th>Biography</th>\n",
       "    </tr>\n",
       "  </thead>\n",
       "  <tbody>\n",
       "    <tr>\n",
       "      <td>0</td>\n",
       "      <td>P8041475</td>\n",
       "      <td>William Edward Acraman</td>\n",
       "      <td>BCC:GWR</td>\n",
       "      <td>William Edward Acraman.  Bristol iron-monger, ...</td>\n",
       "    </tr>\n",
       "    <tr>\n",
       "      <td>1</td>\n",
       "      <td>Pe822a27</td>\n",
       "      <td>William Bruce Adair</td>\n",
       "      <td>NaN</td>\n",
       "      <td>William Bruce Adair.  Shareholder in the Great...</td>\n",
       "    </tr>\n",
       "    <tr>\n",
       "      <td>2</td>\n",
       "      <td>P5a180b0</td>\n",
       "      <td>Thomas Kington Bayly</td>\n",
       "      <td>NaN</td>\n",
       "      <td>Thomas Kington Bayly.  Business Partner and ne...</td>\n",
       "    </tr>\n",
       "    <tr>\n",
       "      <td>3</td>\n",
       "      <td>P4fe27a3</td>\n",
       "      <td>Thomas Baynton</td>\n",
       "      <td>NaN</td>\n",
       "      <td>Thomas Baynton. Shareholder in the Great Weste...</td>\n",
       "    </tr>\n",
       "    <tr>\n",
       "      <td>4</td>\n",
       "      <td>P1592273</td>\n",
       "      <td>Robert Bright</td>\n",
       "      <td>BCC:GWR</td>\n",
       "      <td>Robert Bright.  Member of Bristol merchant fam...</td>\n",
       "    </tr>\n",
       "  </tbody>\n",
       "</table>\n",
       "</div>"
      ],
      "text/plain": [
       "         ID                    Name Affiliations  \\\n",
       "0  P8041475  William Edward Acraman      BCC:GWR   \n",
       "1  Pe822a27     William Bruce Adair          NaN   \n",
       "2  P5a180b0    Thomas Kington Bayly          NaN   \n",
       "3  P4fe27a3          Thomas Baynton          NaN   \n",
       "4  P1592273           Robert Bright      BCC:GWR   \n",
       "\n",
       "                                           Biography  \n",
       "0  William Edward Acraman.  Bristol iron-monger, ...  \n",
       "1  William Bruce Adair.  Shareholder in the Great...  \n",
       "2  Thomas Kington Bayly.  Business Partner and ne...  \n",
       "3  Thomas Baynton. Shareholder in the Great Weste...  \n",
       "4  Robert Bright.  Member of Bristol merchant fam...  "
      ]
     },
     "execution_count": 26,
     "metadata": {},
     "output_type": "execute_result"
    }
   ],
   "source": [
    "df.head()"
   ]
  },
  {
   "cell_type": "code",
   "execution_count": 27,
   "metadata": {},
   "outputs": [
    {
     "data": {
      "text/html": [
       "<div>\n",
       "<style scoped>\n",
       "    .dataframe tbody tr th:only-of-type {\n",
       "        vertical-align: middle;\n",
       "    }\n",
       "\n",
       "    .dataframe tbody tr th {\n",
       "        vertical-align: top;\n",
       "    }\n",
       "\n",
       "    .dataframe thead th {\n",
       "        text-align: right;\n",
       "    }\n",
       "</style>\n",
       "<table border=\"1\" class=\"dataframe\">\n",
       "  <thead>\n",
       "    <tr style=\"text-align: right;\">\n",
       "      <th></th>\n",
       "      <th>ID</th>\n",
       "      <th>Name</th>\n",
       "      <th>Affiliations</th>\n",
       "      <th>Biography</th>\n",
       "    </tr>\n",
       "  </thead>\n",
       "  <tbody>\n",
       "    <tr>\n",
       "      <td>5</td>\n",
       "      <td>Pbb00e87</td>\n",
       "      <td>Isambard Kingdom Brunel</td>\n",
       "      <td>BDC:GWR</td>\n",
       "      <td>Isambard Kingdom Brunel.  Consulting engineer ...</td>\n",
       "    </tr>\n",
       "    <tr>\n",
       "      <td>44</td>\n",
       "      <td>Paf80292</td>\n",
       "      <td>William Symonds</td>\n",
       "      <td>RN</td>\n",
       "      <td>William Symonds.  Surveyor of the Royal Navy f...</td>\n",
       "    </tr>\n",
       "    <tr>\n",
       "      <td>52</td>\n",
       "      <td>Pfc20d19</td>\n",
       "      <td>John Barnes</td>\n",
       "      <td>NaN</td>\n",
       "      <td>John Barnes. Mechanical engineer who built ste...</td>\n",
       "    </tr>\n",
       "    <tr>\n",
       "      <td>56</td>\n",
       "      <td>Pa41a6fd</td>\n",
       "      <td>Captain Ed R. N. Chappel</td>\n",
       "      <td>RN</td>\n",
       "      <td>Captain Chappel.  Controller of Channel Packet...</td>\n",
       "    </tr>\n",
       "    <tr>\n",
       "      <td>64</td>\n",
       "      <td>P22dfb4d</td>\n",
       "      <td>John Laird</td>\n",
       "      <td>NaN</td>\n",
       "      <td>John Laird.  Pioneering iron ship builder base...</td>\n",
       "    </tr>\n",
       "    <tr>\n",
       "      <td>68</td>\n",
       "      <td>P57b2427</td>\n",
       "      <td>George Rennie</td>\n",
       "      <td>NaN</td>\n",
       "      <td>George Rennie.  London-based mechanical engine...</td>\n",
       "    </tr>\n",
       "    <tr>\n",
       "      <td>69</td>\n",
       "      <td>P8d92578</td>\n",
       "      <td>Francis Petit Smith</td>\n",
       "      <td>NaN</td>\n",
       "      <td>Francis Petit Smith. Original patentee of succ...</td>\n",
       "    </tr>\n",
       "  </tbody>\n",
       "</table>\n",
       "</div>"
      ],
      "text/plain": [
       "          ID                      Name Affiliations  \\\n",
       "5   Pbb00e87   Isambard Kingdom Brunel      BDC:GWR   \n",
       "44  Paf80292           William Symonds           RN   \n",
       "52  Pfc20d19               John Barnes          NaN   \n",
       "56  Pa41a6fd  Captain Ed R. N. Chappel           RN   \n",
       "64  P22dfb4d                John Laird          NaN   \n",
       "68  P57b2427             George Rennie          NaN   \n",
       "69  P8d92578       Francis Petit Smith          NaN   \n",
       "\n",
       "                                            Biography  \n",
       "5   Isambard Kingdom Brunel.  Consulting engineer ...  \n",
       "44  William Symonds.  Surveyor of the Royal Navy f...  \n",
       "52  John Barnes. Mechanical engineer who built ste...  \n",
       "56  Captain Chappel.  Controller of Channel Packet...  \n",
       "64  John Laird.  Pioneering iron ship builder base...  \n",
       "68  George Rennie.  London-based mechanical engine...  \n",
       "69  Francis Petit Smith. Original patentee of succ...  "
      ]
     },
     "execution_count": 27,
     "metadata": {},
     "output_type": "execute_result"
    }
   ],
   "source": [
    "df[ df[\"Biography\"].str.contains(\"propeller\", case=False) ]"
   ]
  },
  {
   "cell_type": "code",
   "execution_count": 28,
   "metadata": {},
   "outputs": [
    {
     "name": "stdout",
     "output_type": "stream",
     "text": [
      "['Pbb00e87' 'Isambard Kingdom Brunel' 'BDC:GWR'\n",
      " \"Isambard Kingdom Brunel.  Consulting engineer for the Bristol Dock Company. Chief engineer of the Great Western Railway and other southern branch lines.  Managing consultant for the Great Western Steamship. Consulting engineer for the Great Britain Steamship.  Investor in both Great Western Railway and Great Western Steamship. Co.  Provided critical connection to, and super-intedenace of, Joshua Field's marine engineering work in the Great Western.  Persuaded Great Western Steamship Company to adopt screw propeller in the Great Britain, and was appointed by Royal Navy to examine early iterations of the technology.\"]\n",
      "['Paf80292' 'William Symonds' 'RN'\n",
      " 'William Symonds.  Surveyor of the Royal Navy from 1830-1847.  Immediate superior of Oliver Lang.  Thanked by Great Western Steamship Company for liberal assistance with Great Western steamship.  Corresponded with Brunel throughout propeller trials.']\n",
      "['Pfc20d19' 'John Barnes' nan\n",
      " 'John Barnes. Mechanical engineer who built steeple engines.    Brunel sought his endorsement for this engine design in propeller-driven ships - a design rejected by both marine engineers and the Royal Navy .  No evidence of support.']\n",
      "['Pa41a6fd' 'Captain Ed R. N. Chappel' 'RN'\n",
      " 'Captain Chappel.  Controller of Channel Packets, Royal Navy.  Corresponded of both Brunel and pioneering iron ship-builder John Laird during propeller trials of Archimedes.  Later Secretary of the Royal Mail, who purchased the Great Western on his advice.']\n",
      "['P22dfb4d' 'John Laird' nan\n",
      " \"John Laird.  Pioneering iron ship builder based in Birkenhead, Liverpool.  Correspondent of William Fairbairn and Edward Chapell.  Chapell informed Laird that the Great Western Steamship Company would adopt a propeller design during the Archimedes trials.  Younger brother, MacGregor Laird, was chief engineer to the Great Western Steamship Company's first rival, the British & American Steam Navigation Company.\"]\n",
      "['P57b2427' 'George Rennie' nan\n",
      " \"George Rennie.  London-based mechanical engineer and manufacturer.  Rennie was a founding member of the screw propeller company, which built the Archimedes in order to showcase the potential of Francis Petit Smith's Screw.  Rennies workshop build the engines for the Archimedes. Brunel maintained relations with Rennie regarding both marine and civil engineering issues, but did not seek written advice on the steamship projects.\"]\n",
      "['P8d92578' 'Francis Petit Smith' nan\n",
      " 'Francis Petit Smith. Original patentee of succesful screw-propelling configuration, adopted by the screw propeller company for the prototype ship Archimedes.  Frequently conversant with brunel in both Archimedes and Rattler trials.']\n"
     ]
    }
   ],
   "source": [
    "for row in df[ df[\"Biography\"].str.contains(\"propeller\", case=False) ].values:\n",
    "    print(row)"
   ]
  },
  {
   "cell_type": "code",
   "execution_count": 29,
   "metadata": {},
   "outputs": [
    {
     "name": "stdout",
     "output_type": "stream",
     "text": [
      "['Pbb00e87' 'Isambard Kingdom Brunel' 'BDC:GWR'\n",
      " \"Isambard Kingdom Brunel.  Consulting engineer for the Bristol Dock Company. Chief engineer of the Great Western Railway and other southern branch lines.  Managing consultant for the Great Western Steamship. Consulting engineer for the Great Britain Steamship.  Investor in both Great Western Railway and Great Western Steamship. Co.  Provided critical connection to, and super-intedenace of, Joshua Field's marine engineering work in the Great Western.  Persuaded Great Western Steamship Company to adopt screw propeller in the Great Britain, and was appointed by Royal Navy to examine early iterations of the technology.\"]\n",
      "['P57b2427' 'George Rennie' nan\n",
      " \"George Rennie.  London-based mechanical engineer and manufacturer.  Rennie was a founding member of the screw propeller company, which built the Archimedes in order to showcase the potential of Francis Petit Smith's Screw.  Rennies workshop build the engines for the Archimedes. Brunel maintained relations with Rennie regarding both marine and civil engineering issues, but did not seek written advice on the steamship projects.\"]\n",
      "['P8d92578' 'Francis Petit Smith' nan\n",
      " 'Francis Petit Smith. Original patentee of succesful screw-propelling configuration, adopted by the screw propeller company for the prototype ship Archimedes.  Frequently conversant with brunel in both Archimedes and Rattler trials.']\n"
     ]
    }
   ],
   "source": [
    "for row in df[ df[\"Biography\"].str.contains(r\"screw.*propeller\", case=False) ].values:\n",
    "    print(row)"
   ]
  },
  {
   "cell_type": "markdown",
   "metadata": {},
   "source": [
    "# Excel"
   ]
  },
  {
   "cell_type": "code",
   "execution_count": 30,
   "metadata": {},
   "outputs": [],
   "source": [
    "df.to_excel(\"data.xlsx\", sheet_name=\"Sheet 1\")"
   ]
  },
  {
   "cell_type": "code",
   "execution_count": 31,
   "metadata": {},
   "outputs": [],
   "source": [
    "df[ df[\"Biography\"].str.contains(r\"propeller\", case=False) ].to_excel(\"data.xlsx\", sheet_name=\"Sheet 1\")"
   ]
  },
  {
   "cell_type": "code",
   "execution_count": 32,
   "metadata": {},
   "outputs": [],
   "source": [
    "invested = pd.read_excel(\"invested.xlsx\")"
   ]
  },
  {
   "cell_type": "markdown",
   "metadata": {},
   "source": [
    "# Merging in Financial Data"
   ]
  },
  {
   "cell_type": "code",
   "execution_count": 33,
   "metadata": {},
   "outputs": [
    {
     "data": {
      "text/html": [
       "<div>\n",
       "<style scoped>\n",
       "    .dataframe tbody tr th:only-of-type {\n",
       "        vertical-align: middle;\n",
       "    }\n",
       "\n",
       "    .dataframe tbody tr th {\n",
       "        vertical-align: top;\n",
       "    }\n",
       "\n",
       "    .dataframe thead th {\n",
       "        text-align: right;\n",
       "    }\n",
       "</style>\n",
       "<table border=\"1\" class=\"dataframe\">\n",
       "  <thead>\n",
       "    <tr style=\"text-align: right;\">\n",
       "      <th></th>\n",
       "      <th>ID</th>\n",
       "      <th>Name</th>\n",
       "      <th>Affiliations</th>\n",
       "      <th>Biography</th>\n",
       "      <th>Invested</th>\n",
       "    </tr>\n",
       "  </thead>\n",
       "  <tbody>\n",
       "    <tr>\n",
       "      <td>0</td>\n",
       "      <td>P8041475</td>\n",
       "      <td>William Edward Acraman</td>\n",
       "      <td>BCC:GWR</td>\n",
       "      <td>William Edward Acraman.  Bristol iron-monger, ...</td>\n",
       "      <td>416.56</td>\n",
       "    </tr>\n",
       "    <tr>\n",
       "      <td>1</td>\n",
       "      <td>Pe822a27</td>\n",
       "      <td>William Bruce Adair</td>\n",
       "      <td>NaN</td>\n",
       "      <td>William Bruce Adair.  Shareholder in the Great...</td>\n",
       "      <td>43.04</td>\n",
       "    </tr>\n",
       "    <tr>\n",
       "      <td>2</td>\n",
       "      <td>P5a180b0</td>\n",
       "      <td>Thomas Kington Bayly</td>\n",
       "      <td>NaN</td>\n",
       "      <td>Thomas Kington Bayly.  Business Partner and ne...</td>\n",
       "      <td>424.12</td>\n",
       "    </tr>\n",
       "    <tr>\n",
       "      <td>3</td>\n",
       "      <td>P4fe27a3</td>\n",
       "      <td>Thomas Baynton</td>\n",
       "      <td>NaN</td>\n",
       "      <td>Thomas Baynton. Shareholder in the Great Weste...</td>\n",
       "      <td>130.34</td>\n",
       "    </tr>\n",
       "    <tr>\n",
       "      <td>4</td>\n",
       "      <td>P1592273</td>\n",
       "      <td>Robert Bright</td>\n",
       "      <td>BCC:GWR</td>\n",
       "      <td>Robert Bright.  Member of Bristol merchant fam...</td>\n",
       "      <td>367.96</td>\n",
       "    </tr>\n",
       "  </tbody>\n",
       "</table>\n",
       "</div>"
      ],
      "text/plain": [
       "         ID                    Name Affiliations  \\\n",
       "0  P8041475  William Edward Acraman      BCC:GWR   \n",
       "1  Pe822a27     William Bruce Adair          NaN   \n",
       "2  P5a180b0    Thomas Kington Bayly          NaN   \n",
       "3  P4fe27a3          Thomas Baynton          NaN   \n",
       "4  P1592273           Robert Bright      BCC:GWR   \n",
       "\n",
       "                                           Biography  Invested  \n",
       "0  William Edward Acraman.  Bristol iron-monger, ...    416.56  \n",
       "1  William Bruce Adair.  Shareholder in the Great...     43.04  \n",
       "2  Thomas Kington Bayly.  Business Partner and ne...    424.12  \n",
       "3  Thomas Baynton. Shareholder in the Great Weste...    130.34  \n",
       "4  Robert Bright.  Member of Bristol merchant fam...    367.96  "
      ]
     },
     "execution_count": 33,
     "metadata": {},
     "output_type": "execute_result"
    }
   ],
   "source": [
    "df = pd.merge(df, invested, on=\"ID\")\n",
    "df.head()"
   ]
  },
  {
   "cell_type": "code",
   "execution_count": 35,
   "metadata": {},
   "outputs": [
    {
     "data": {
      "text/plain": [
       "<matplotlib.axes._subplots.AxesSubplot at 0x11f309810>"
      ]
     },
     "execution_count": 35,
     "metadata": {},
     "output_type": "execute_result"
    },
    {
     "data": {
      "image/png": "[encoded data removed]",
      "text/plain": [
       "<Figure size 432x288 with 1 Axes>"
      ]
     },
     "metadata": {
      "needs_background": "light"
     },
     "output_type": "display_data"
    }
   ],
   "source": [
    "df.plot.bar(x=\"Name\", y=\"Invested\")"
   ]
  },
  {
   "cell_type": "code",
   "execution_count": 36,
   "metadata": {},
   "outputs": [
    {
     "data": {
      "text/plain": [
       "<matplotlib.axes._subplots.AxesSubplot at 0x11f3fd890>"
      ]
     },
     "execution_count": 36,
     "metadata": {},
     "output_type": "execute_result"
    },
    {
     "data": {
      "image/png": "[encoded data removed]",
      "text/plain": [
       "<Figure size 432x288 with 1 Axes>"
      ]
     },
     "metadata": {
      "needs_background": "light"
     },
     "output_type": "display_data"
    }
   ],
   "source": [
    "df[ df[\"Biography\"].str.contains(\"propeller\", case=False) ].plot.bar(x=\"Name\", y=\"Invested\")"
   ]
  },
  {
   "cell_type": "code",
   "execution_count": 37,
   "metadata": {},
   "outputs": [
    {
     "data": {
      "text/plain": [
       "<matplotlib.axes._subplots.AxesSubplot at 0x11f668f10>"
      ]
     },
     "execution_count": 37,
     "metadata": {},
     "output_type": "execute_result"
    },
    {
     "data": {
      "image/png": "[encoded data removed]",
      "text/plain": [
       "<Figure size 432x288 with 1 Axes>"
      ]
     },
     "metadata": {
      "needs_background": "light"
     },
     "output_type": "display_data"
    }
   ],
   "source": [
    "df[ df[\"Biography\"].str.contains(\"archimedes\", case=False) ].plot.bar(x=\"Name\", y=\"Invested\")"
   ]
  },
  {
   "cell_type": "code",
   "execution_count": 38,
   "metadata": {},
   "outputs": [
    {
     "data": {
      "text/plain": [
       "31522.83"
      ]
     },
     "execution_count": 38,
     "metadata": {},
     "output_type": "execute_result"
    }
   ],
   "source": [
    "df[\"Invested\"].sum()"
   ]
  },
  {
   "cell_type": "code",
   "execution_count": 39,
   "metadata": {},
   "outputs": [
    {
     "name": "stdout",
     "output_type": "stream",
     "text": [
      "437.8170833333334\n",
      "398.975\n",
      "994.7\n",
      "0.0\n"
     ]
    }
   ],
   "source": [
    "print(df[\"Invested\"].mean())\n",
    "print(df[\"Invested\"].median())\n",
    "print(df[\"Invested\"].max())\n",
    "print(df[\"Invested\"].min())"
   ]
  },
  {
   "cell_type": "code",
   "execution_count": 40,
   "metadata": {},
   "outputs": [
    {
     "data": {
      "text/html": [
       "<div>\n",
       "<style scoped>\n",
       "    .dataframe tbody tr th:only-of-type {\n",
       "        vertical-align: middle;\n",
       "    }\n",
       "\n",
       "    .dataframe tbody tr th {\n",
       "        vertical-align: top;\n",
       "    }\n",
       "\n",
       "    .dataframe thead th {\n",
       "        text-align: right;\n",
       "    }\n",
       "</style>\n",
       "<table border=\"1\" class=\"dataframe\">\n",
       "  <thead>\n",
       "    <tr style=\"text-align: right;\">\n",
       "      <th></th>\n",
       "      <th>ID</th>\n",
       "      <th>Name</th>\n",
       "      <th>Affiliations</th>\n",
       "      <th>Biography</th>\n",
       "      <th>Invested</th>\n",
       "    </tr>\n",
       "  </thead>\n",
       "  <tbody>\n",
       "    <tr>\n",
       "      <td>5</td>\n",
       "      <td>Pbb00e87</td>\n",
       "      <td>Isambard Kingdom Brunel</td>\n",
       "      <td>BDC:GWR</td>\n",
       "      <td>Isambard Kingdom Brunel.  Consulting engineer ...</td>\n",
       "      <td>994.7</td>\n",
       "    </tr>\n",
       "  </tbody>\n",
       "</table>\n",
       "</div>"
      ],
      "text/plain": [
       "         ID                     Name Affiliations  \\\n",
       "5  Pbb00e87  Isambard Kingdom Brunel      BDC:GWR   \n",
       "\n",
       "                                           Biography  Invested  \n",
       "5  Isambard Kingdom Brunel.  Consulting engineer ...     994.7  "
      ]
     },
     "execution_count": 40,
     "metadata": {},
     "output_type": "execute_result"
    }
   ],
   "source": [
    "df[ df[\"Invested\"] == df[\"Invested\"].max() ]"
   ]
  },
  {
   "cell_type": "code",
   "execution_count": 41,
   "metadata": {},
   "outputs": [
    {
     "data": {
      "text/html": [
       "<div>\n",
       "<style scoped>\n",
       "    .dataframe tbody tr th:only-of-type {\n",
       "        vertical-align: middle;\n",
       "    }\n",
       "\n",
       "    .dataframe tbody tr th {\n",
       "        vertical-align: top;\n",
       "    }\n",
       "\n",
       "    .dataframe thead th {\n",
       "        text-align: right;\n",
       "    }\n",
       "</style>\n",
       "<table border=\"1\" class=\"dataframe\">\n",
       "  <thead>\n",
       "    <tr style=\"text-align: right;\">\n",
       "      <th></th>\n",
       "      <th>ID</th>\n",
       "      <th>Name</th>\n",
       "      <th>Affiliations</th>\n",
       "      <th>Biography</th>\n",
       "      <th>Invested</th>\n",
       "    </tr>\n",
       "  </thead>\n",
       "  <tbody>\n",
       "    <tr>\n",
       "      <td>0</td>\n",
       "      <td>P8041475</td>\n",
       "      <td>William Edward Acraman</td>\n",
       "      <td>BCC:GWR</td>\n",
       "      <td>William Edward Acraman.  Bristol iron-monger, ...</td>\n",
       "      <td>416.56</td>\n",
       "    </tr>\n",
       "    <tr>\n",
       "      <td>2</td>\n",
       "      <td>P5a180b0</td>\n",
       "      <td>Thomas Kington Bayly</td>\n",
       "      <td>NaN</td>\n",
       "      <td>Thomas Kington Bayly.  Business Partner and ne...</td>\n",
       "      <td>424.12</td>\n",
       "    </tr>\n",
       "    <tr>\n",
       "      <td>5</td>\n",
       "      <td>Pbb00e87</td>\n",
       "      <td>Isambard Kingdom Brunel</td>\n",
       "      <td>BDC:GWR</td>\n",
       "      <td>Isambard Kingdom Brunel.  Consulting engineer ...</td>\n",
       "      <td>994.70</td>\n",
       "    </tr>\n",
       "    <tr>\n",
       "      <td>6</td>\n",
       "      <td>Pf6d1fb4</td>\n",
       "      <td>Henry Bush</td>\n",
       "      <td>BCC:GWR</td>\n",
       "      <td>Henry Bush.  Member of Bristol merchant family...</td>\n",
       "      <td>948.74</td>\n",
       "    </tr>\n",
       "    <tr>\n",
       "      <td>7</td>\n",
       "      <td>P21651e1</td>\n",
       "      <td>Captain RN Walcott</td>\n",
       "      <td>NaN</td>\n",
       "      <td>Captain Walcott, Royal Navy.  Shareholder of G...</td>\n",
       "      <td>841.04</td>\n",
       "    </tr>\n",
       "    <tr>\n",
       "      <td>9</td>\n",
       "      <td>Pd2f4d82</td>\n",
       "      <td>J. B. Clarke</td>\n",
       "      <td>NaN</td>\n",
       "      <td>J B Clarke.  Shareholder in the Great Western ...</td>\n",
       "      <td>444.89</td>\n",
       "    </tr>\n",
       "    <tr>\n",
       "      <td>12</td>\n",
       "      <td>P9585948</td>\n",
       "      <td>Joseph Cookson</td>\n",
       "      <td>BCC</td>\n",
       "      <td>Joseph Cookson. Member of the Bristol Chamber ...</td>\n",
       "      <td>794.56</td>\n",
       "    </tr>\n",
       "    <tr>\n",
       "      <td>13</td>\n",
       "      <td>P98d7aec</td>\n",
       "      <td>Captain Superintendent RN Jackson</td>\n",
       "      <td>RN</td>\n",
       "      <td>Captain Jackson, Royal Navy.  Assisted with do...</td>\n",
       "      <td>794.10</td>\n",
       "    </tr>\n",
       "    <tr>\n",
       "      <td>14</td>\n",
       "      <td>Pde64423</td>\n",
       "      <td>Thomas Cruttwell</td>\n",
       "      <td>NaN</td>\n",
       "      <td>Thomas Cruttwell.  Shareholder in the Great We...</td>\n",
       "      <td>590.84</td>\n",
       "    </tr>\n",
       "    <tr>\n",
       "      <td>15</td>\n",
       "      <td>Pe70c23e</td>\n",
       "      <td>James Cunningham</td>\n",
       "      <td>NaN</td>\n",
       "      <td>James Cunningham. Shareholder in the Great Wes...</td>\n",
       "      <td>931.94</td>\n",
       "    </tr>\n",
       "    <tr>\n",
       "      <td>19</td>\n",
       "      <td>P3c58aa1</td>\n",
       "      <td>Joshua Field</td>\n",
       "      <td>NaN</td>\n",
       "      <td>Joshua Field.  Mechanical Engineer.  Partner i...</td>\n",
       "      <td>581.02</td>\n",
       "    </tr>\n",
       "    <tr>\n",
       "      <td>21</td>\n",
       "      <td>P58d164c</td>\n",
       "      <td>Charles Fripp</td>\n",
       "      <td>BCC:GWR</td>\n",
       "      <td>Charles Bowles Fripp.  Member of Bristol Chamb...</td>\n",
       "      <td>505.08</td>\n",
       "    </tr>\n",
       "    <tr>\n",
       "      <td>23</td>\n",
       "      <td>P7d6ac73</td>\n",
       "      <td>Henry G. Godwin</td>\n",
       "      <td>NaN</td>\n",
       "      <td>Henry Godwin.  Appointed director of the Great...</td>\n",
       "      <td>855.92</td>\n",
       "    </tr>\n",
       "    <tr>\n",
       "      <td>24</td>\n",
       "      <td>P68252e3</td>\n",
       "      <td>Thomas Guppy</td>\n",
       "      <td>BCC:BDC:GWR</td>\n",
       "      <td>Thomas Guppy.  Bristol sugar merchant and manu...</td>\n",
       "      <td>751.96</td>\n",
       "    </tr>\n",
       "    <tr>\n",
       "      <td>25</td>\n",
       "      <td>P2b87cec</td>\n",
       "      <td>Samuel Hall</td>\n",
       "      <td>NaN</td>\n",
       "      <td>Samuel Hall.  Boiler maker for marine steam en...</td>\n",
       "      <td>704.67</td>\n",
       "    </tr>\n",
       "    <tr>\n",
       "      <td>26</td>\n",
       "      <td>Pc742055</td>\n",
       "      <td>Mr. Harding</td>\n",
       "      <td>BCC</td>\n",
       "      <td>Mr Harding. Member of Chamber of Commerce. Sha...</td>\n",
       "      <td>515.09</td>\n",
       "    </tr>\n",
       "    <tr>\n",
       "      <td>29</td>\n",
       "      <td>P08c61f1</td>\n",
       "      <td>Richard Irvin</td>\n",
       "      <td>NaN</td>\n",
       "      <td>Richard Irvin.  Agent for the Great Western St...</td>\n",
       "      <td>921.02</td>\n",
       "    </tr>\n",
       "    <tr>\n",
       "      <td>31</td>\n",
       "      <td>Pc83f9c3</td>\n",
       "      <td>Thomas Kington</td>\n",
       "      <td>BCC</td>\n",
       "      <td>Thomas Kington. Member of the Bristol Chamber ...</td>\n",
       "      <td>829.17</td>\n",
       "    </tr>\n",
       "    <tr>\n",
       "      <td>33</td>\n",
       "      <td>Pd6531cb</td>\n",
       "      <td>Mr. Levy</td>\n",
       "      <td>NaN</td>\n",
       "      <td>Mr. Levy.  Shareholder in the Great Western St...</td>\n",
       "      <td>818.16</td>\n",
       "    </tr>\n",
       "    <tr>\n",
       "      <td>36</td>\n",
       "      <td>P9a524d4</td>\n",
       "      <td>George Lunnell</td>\n",
       "      <td>B&amp;A:BCC:BDC</td>\n",
       "      <td>George Lunnell.  Director of Bristol Steam pac...</td>\n",
       "      <td>621.89</td>\n",
       "    </tr>\n",
       "    <tr>\n",
       "      <td>40</td>\n",
       "      <td>P57bda72</td>\n",
       "      <td>Thomas Pycroft</td>\n",
       "      <td>GWR</td>\n",
       "      <td>Thomas Pycroft.  Bath-based barrister and shar...</td>\n",
       "      <td>654.93</td>\n",
       "    </tr>\n",
       "    <tr>\n",
       "      <td>41</td>\n",
       "      <td>Pefa0145</td>\n",
       "      <td>Richard Robinson</td>\n",
       "      <td>BCC</td>\n",
       "      <td>Richard Robinson. Member of Bristol Chamber of...</td>\n",
       "      <td>868.94</td>\n",
       "    </tr>\n",
       "    <tr>\n",
       "      <td>42</td>\n",
       "      <td>Pae0912e</td>\n",
       "      <td>Robert Scott</td>\n",
       "      <td>GWR</td>\n",
       "      <td>Robert Scott.  Prominent Bath-based businessma...</td>\n",
       "      <td>399.32</td>\n",
       "    </tr>\n",
       "    <tr>\n",
       "      <td>43</td>\n",
       "      <td>P23615c7</td>\n",
       "      <td>John Stafford</td>\n",
       "      <td>NaN</td>\n",
       "      <td>John Stafford. Shareholder in the Great Wester...</td>\n",
       "      <td>884.75</td>\n",
       "    </tr>\n",
       "    <tr>\n",
       "      <td>45</td>\n",
       "      <td>P0fc77cb</td>\n",
       "      <td>John Taylor</td>\n",
       "      <td>BCC</td>\n",
       "      <td>John Taylor.  Member of Bristol Chamber of Com...</td>\n",
       "      <td>494.62</td>\n",
       "    </tr>\n",
       "    <tr>\n",
       "      <td>46</td>\n",
       "      <td>P3994bee</td>\n",
       "      <td>Rev. Taylor</td>\n",
       "      <td>NaN</td>\n",
       "      <td>Reverend Taylor. Shareholder in Great Western ...</td>\n",
       "      <td>399.58</td>\n",
       "    </tr>\n",
       "    <tr>\n",
       "      <td>47</td>\n",
       "      <td>Pfef357c</td>\n",
       "      <td>John Vining</td>\n",
       "      <td>GWR</td>\n",
       "      <td>John Vining.  Member of Bristol Chamber of Com...</td>\n",
       "      <td>805.34</td>\n",
       "    </tr>\n",
       "    <tr>\n",
       "      <td>50</td>\n",
       "      <td>Pd265828</td>\n",
       "      <td>John Winwood</td>\n",
       "      <td>BCC</td>\n",
       "      <td>John Winwood.  Bristol marine engineer.  Tende...</td>\n",
       "      <td>714.81</td>\n",
       "    </tr>\n",
       "    <tr>\n",
       "      <td>53</td>\n",
       "      <td>P73e4d92</td>\n",
       "      <td>John Barrow</td>\n",
       "      <td>NaN</td>\n",
       "      <td>Sir John Barrow, Secretary to the Admiralty, 1...</td>\n",
       "      <td>955.22</td>\n",
       "    </tr>\n",
       "    <tr>\n",
       "      <td>56</td>\n",
       "      <td>Pa41a6fd</td>\n",
       "      <td>Captain Ed R. N. Chappel</td>\n",
       "      <td>RN</td>\n",
       "      <td>Captain Chappel.  Controller of Channel Packet...</td>\n",
       "      <td>595.71</td>\n",
       "    </tr>\n",
       "    <tr>\n",
       "      <td>58</td>\n",
       "      <td>P6343c63</td>\n",
       "      <td>Bryan Donkin</td>\n",
       "      <td>NaN</td>\n",
       "      <td>Bryan Donkin.  Inventor and mechanical enginee...</td>\n",
       "      <td>858.85</td>\n",
       "    </tr>\n",
       "    <tr>\n",
       "      <td>59</td>\n",
       "      <td>P0cfbafc</td>\n",
       "      <td>William Fairbairn</td>\n",
       "      <td>NaN</td>\n",
       "      <td>William Fairbairn.  Mechanical and civil engin...</td>\n",
       "      <td>813.48</td>\n",
       "    </tr>\n",
       "    <tr>\n",
       "      <td>61</td>\n",
       "      <td>Pfcfda92</td>\n",
       "      <td>W. Hamilton</td>\n",
       "      <td>NaN</td>\n",
       "      <td>Cpt. W. Hamilton Royal Naval Officer.</td>\n",
       "      <td>911.01</td>\n",
       "    </tr>\n",
       "    <tr>\n",
       "      <td>62</td>\n",
       "      <td>P4b3299f</td>\n",
       "      <td>Francis Humphrys</td>\n",
       "      <td>NaN</td>\n",
       "      <td>Francis Humphries.  Hired as superintending en...</td>\n",
       "      <td>845.96</td>\n",
       "    </tr>\n",
       "    <tr>\n",
       "      <td>64</td>\n",
       "      <td>P22dfb4d</td>\n",
       "      <td>John Laird</td>\n",
       "      <td>NaN</td>\n",
       "      <td>John Laird.  Pioneering iron ship builder base...</td>\n",
       "      <td>552.60</td>\n",
       "    </tr>\n",
       "    <tr>\n",
       "      <td>65</td>\n",
       "      <td>P7d72945</td>\n",
       "      <td>W. Morgan</td>\n",
       "      <td>NaN</td>\n",
       "      <td>W. Morgan. Shareholder in the Great Western St...</td>\n",
       "      <td>681.40</td>\n",
       "    </tr>\n",
       "  </tbody>\n",
       "</table>\n",
       "</div>"
      ],
      "text/plain": [
       "          ID                               Name Affiliations  \\\n",
       "0   P8041475             William Edward Acraman      BCC:GWR   \n",
       "2   P5a180b0               Thomas Kington Bayly          NaN   \n",
       "5   Pbb00e87            Isambard Kingdom Brunel      BDC:GWR   \n",
       "6   Pf6d1fb4                         Henry Bush      BCC:GWR   \n",
       "7   P21651e1                 Captain RN Walcott          NaN   \n",
       "9   Pd2f4d82                       J. B. Clarke          NaN   \n",
       "12  P9585948                     Joseph Cookson          BCC   \n",
       "13  P98d7aec  Captain Superintendent RN Jackson           RN   \n",
       "14  Pde64423                   Thomas Cruttwell          NaN   \n",
       "15  Pe70c23e                   James Cunningham          NaN   \n",
       "19  P3c58aa1                       Joshua Field          NaN   \n",
       "21  P58d164c                      Charles Fripp      BCC:GWR   \n",
       "23  P7d6ac73                    Henry G. Godwin          NaN   \n",
       "24  P68252e3                       Thomas Guppy  BCC:BDC:GWR   \n",
       "25  P2b87cec                        Samuel Hall          NaN   \n",
       "26  Pc742055                        Mr. Harding          BCC   \n",
       "29  P08c61f1                      Richard Irvin          NaN   \n",
       "31  Pc83f9c3                     Thomas Kington          BCC   \n",
       "33  Pd6531cb                           Mr. Levy          NaN   \n",
       "36  P9a524d4                     George Lunnell  B&A:BCC:BDC   \n",
       "40  P57bda72                     Thomas Pycroft          GWR   \n",
       "41  Pefa0145                   Richard Robinson          BCC   \n",
       "42  Pae0912e                       Robert Scott          GWR   \n",
       "43  P23615c7                      John Stafford          NaN   \n",
       "45  P0fc77cb                        John Taylor          BCC   \n",
       "46  P3994bee                        Rev. Taylor          NaN   \n",
       "47  Pfef357c                        John Vining          GWR   \n",
       "50  Pd265828                       John Winwood          BCC   \n",
       "53  P73e4d92                        John Barrow          NaN   \n",
       "56  Pa41a6fd           Captain Ed R. N. Chappel           RN   \n",
       "58  P6343c63                       Bryan Donkin          NaN   \n",
       "59  P0cfbafc                  William Fairbairn          NaN   \n",
       "61  Pfcfda92                        W. Hamilton          NaN   \n",
       "62  P4b3299f                   Francis Humphrys          NaN   \n",
       "64  P22dfb4d                         John Laird          NaN   \n",
       "65  P7d72945                          W. Morgan          NaN   \n",
       "\n",
       "                                            Biography  Invested  \n",
       "0   William Edward Acraman.  Bristol iron-monger, ...    416.56  \n",
       "2   Thomas Kington Bayly.  Business Partner and ne...    424.12  \n",
       "5   Isambard Kingdom Brunel.  Consulting engineer ...    994.70  \n",
       "6   Henry Bush.  Member of Bristol merchant family...    948.74  \n",
       "7   Captain Walcott, Royal Navy.  Shareholder of G...    841.04  \n",
       "9   J B Clarke.  Shareholder in the Great Western ...    444.89  \n",
       "12  Joseph Cookson. Member of the Bristol Chamber ...    794.56  \n",
       "13  Captain Jackson, Royal Navy.  Assisted with do...    794.10  \n",
       "14  Thomas Cruttwell.  Shareholder in the Great We...    590.84  \n",
       "15  James Cunningham. Shareholder in the Great Wes...    931.94  \n",
       "19  Joshua Field.  Mechanical Engineer.  Partner i...    581.02  \n",
       "21  Charles Bowles Fripp.  Member of Bristol Chamb...    505.08  \n",
       "23  Henry Godwin.  Appointed director of the Great...    855.92  \n",
       "24  Thomas Guppy.  Bristol sugar merchant and manu...    751.96  \n",
       "25  Samuel Hall.  Boiler maker for marine steam en...    704.67  \n",
       "26  Mr Harding. Member of Chamber of Commerce. Sha...    515.09  \n",
       "29  Richard Irvin.  Agent for the Great Western St...    921.02  \n",
       "31  Thomas Kington. Member of the Bristol Chamber ...    829.17  \n",
       "33  Mr. Levy.  Shareholder in the Great Western St...    818.16  \n",
       "36  George Lunnell.  Director of Bristol Steam pac...    621.89  \n",
       "40  Thomas Pycroft.  Bath-based barrister and shar...    654.93  \n",
       "41  Richard Robinson. Member of Bristol Chamber of...    868.94  \n",
       "42  Robert Scott.  Prominent Bath-based businessma...    399.32  \n",
       "43  John Stafford. Shareholder in the Great Wester...    884.75  \n",
       "45  John Taylor.  Member of Bristol Chamber of Com...    494.62  \n",
       "46  Reverend Taylor. Shareholder in Great Western ...    399.58  \n",
       "47  John Vining.  Member of Bristol Chamber of Com...    805.34  \n",
       "50  John Winwood.  Bristol marine engineer.  Tende...    714.81  \n",
       "53  Sir John Barrow, Secretary to the Admiralty, 1...    955.22  \n",
       "56  Captain Chappel.  Controller of Channel Packet...    595.71  \n",
       "58  Bryan Donkin.  Inventor and mechanical enginee...    858.85  \n",
       "59  William Fairbairn.  Mechanical and civil engin...    813.48  \n",
       "61              Cpt. W. Hamilton Royal Naval Officer.    911.01  \n",
       "62  Francis Humphries.  Hired as superintending en...    845.96  \n",
       "64  John Laird.  Pioneering iron ship builder base...    552.60  \n",
       "65  W. Morgan. Shareholder in the Great Western St...    681.40  "
      ]
     },
     "execution_count": 41,
     "metadata": {},
     "output_type": "execute_result"
    }
   ],
   "source": [
    "df[ df[\"Invested\"] > df[\"Invested\"].median() ]"
   ]
  },
  {
   "cell_type": "code",
   "execution_count": 42,
   "metadata": {},
   "outputs": [
    {
     "data": {
      "text/plain": [
       "<matplotlib.axes._subplots.AxesSubplot at 0x11f7b4550>"
      ]
     },
     "execution_count": 42,
     "metadata": {},
     "output_type": "execute_result"
    },
    {
     "data": {
      "image/png": "[encoded data removed]",
      "text/plain": [
       "<Figure size 432x288 with 1 Axes>"
      ]
     },
     "metadata": {
      "needs_background": "light"
     },
     "output_type": "display_data"
    }
   ],
   "source": [
    "df[ df[\"Invested\"] > 0.8 * df[\"Invested\"].max() ].plot.bar(x=\"Name\", y=\"Invested\")"
   ]
  },
  {
   "cell_type": "markdown",
   "metadata": {},
   "source": [
    "# Grouping by Category"
   ]
  },
  {
   "cell_type": "code",
   "execution_count": 43,
   "metadata": {},
   "outputs": [
    {
     "data": {
      "text/html": [
       "<div>\n",
       "<style scoped>\n",
       "    .dataframe tbody tr th:only-of-type {\n",
       "        vertical-align: middle;\n",
       "    }\n",
       "\n",
       "    .dataframe tbody tr th {\n",
       "        vertical-align: top;\n",
       "    }\n",
       "\n",
       "    .dataframe thead th {\n",
       "        text-align: right;\n",
       "    }\n",
       "</style>\n",
       "<table border=\"1\" class=\"dataframe\">\n",
       "  <thead>\n",
       "    <tr style=\"text-align: right;\">\n",
       "      <th></th>\n",
       "      <th>Invested</th>\n",
       "    </tr>\n",
       "    <tr>\n",
       "      <th>Affiliations</th>\n",
       "      <th></th>\n",
       "    </tr>\n",
       "  </thead>\n",
       "  <tbody>\n",
       "    <tr>\n",
       "      <td>B&amp;A:BCC:BDC</td>\n",
       "      <td>621.89</td>\n",
       "    </tr>\n",
       "    <tr>\n",
       "      <td>BCC</td>\n",
       "      <td>4500.57</td>\n",
       "    </tr>\n",
       "    <tr>\n",
       "      <td>BCC:BDC:GWR</td>\n",
       "      <td>1069.40</td>\n",
       "    </tr>\n",
       "    <tr>\n",
       "      <td>BCC:GWR</td>\n",
       "      <td>2388.13</td>\n",
       "    </tr>\n",
       "    <tr>\n",
       "      <td>BDC</td>\n",
       "      <td>346.86</td>\n",
       "    </tr>\n",
       "    <tr>\n",
       "      <td>BDC:GWR</td>\n",
       "      <td>994.70</td>\n",
       "    </tr>\n",
       "    <tr>\n",
       "      <td>GWR</td>\n",
       "      <td>2251.23</td>\n",
       "    </tr>\n",
       "    <tr>\n",
       "      <td>RN</td>\n",
       "      <td>2568.99</td>\n",
       "    </tr>\n",
       "    <tr>\n",
       "      <td>SMV</td>\n",
       "      <td>192.28</td>\n",
       "    </tr>\n",
       "  </tbody>\n",
       "</table>\n",
       "</div>"
      ],
      "text/plain": [
       "              Invested\n",
       "Affiliations          \n",
       "B&A:BCC:BDC     621.89\n",
       "BCC            4500.57\n",
       "BCC:BDC:GWR    1069.40\n",
       "BCC:GWR        2388.13\n",
       "BDC             346.86\n",
       "BDC:GWR         994.70\n",
       "GWR            2251.23\n",
       "RN             2568.99\n",
       "SMV             192.28"
      ]
     },
     "execution_count": 43,
     "metadata": {},
     "output_type": "execute_result"
    }
   ],
   "source": [
    "df.groupby(\"Affiliations\").sum()"
   ]
  },
  {
   "cell_type": "code",
   "execution_count": 44,
   "metadata": {},
   "outputs": [
    {
     "data": {
      "text/plain": [
       "<matplotlib.axes._subplots.AxesSubplot at 0x11f8f1850>"
      ]
     },
     "execution_count": 44,
     "metadata": {},
     "output_type": "execute_result"
    },
    {
     "data": {
      "image/png": "[encoded data removed]",
      "text/plain": [
       "<Figure size 432x288 with 1 Axes>"
      ]
     },
     "metadata": {
      "needs_background": "light"
     },
     "output_type": "display_data"
    }
   ],
   "source": [
    "df.groupby(\"Affiliations\").sum().plot.bar()"
   ]
  },
  {
   "cell_type": "code",
   "execution_count": 45,
   "metadata": {},
   "outputs": [
    {
     "ename": "ValueError",
     "evalue": "cannot index with vector containing NA / NaN values",
     "output_type": "error",
     "traceback": [
      "\u001b[0;31m---------------------------------------------------------------------------\u001b[0m",
      "\u001b[0;31mValueError\u001b[0m                                Traceback (most recent call last)",
      "\u001b[0;32m<ipython-input-45-d89689a925eb>\u001b[0m in \u001b[0;36m<module>\u001b[0;34m\u001b[0m\n\u001b[0;32m----> 1\u001b[0;31m \u001b[0mdf\u001b[0m\u001b[0;34m[\u001b[0m \u001b[0mdf\u001b[0m\u001b[0;34m[\u001b[0m\u001b[0;34m\"Affiliations\"\u001b[0m\u001b[0;34m]\u001b[0m\u001b[0;34m.\u001b[0m\u001b[0mstr\u001b[0m\u001b[0;34m.\u001b[0m\u001b[0mcontains\u001b[0m\u001b[0;34m(\u001b[0m\u001b[0;34m\"GWR\"\u001b[0m\u001b[0;34m)\u001b[0m \u001b[0;34m]\u001b[0m\u001b[0;34m\u001b[0m\u001b[0;34m\u001b[0m\u001b[0m\n\u001b[0m",
      "\u001b[0;32m~/anaconda3/lib/python3.7/site-packages/pandas/core/frame.py\u001b[0m in \u001b[0;36m__getitem__\u001b[0;34m(self, key)\u001b[0m\n\u001b[1;32m   2968\u001b[0m \u001b[0;34m\u001b[0m\u001b[0m\n\u001b[1;32m   2969\u001b[0m         \u001b[0;31m# Do we have a (boolean) 1d indexer?\u001b[0m\u001b[0;34m\u001b[0m\u001b[0;34m\u001b[0m\u001b[0;34m\u001b[0m\u001b[0m\n\u001b[0;32m-> 2970\u001b[0;31m         \u001b[0;32mif\u001b[0m \u001b[0mcom\u001b[0m\u001b[0;34m.\u001b[0m\u001b[0mis_bool_indexer\u001b[0m\u001b[0;34m(\u001b[0m\u001b[0mkey\u001b[0m\u001b[0;34m)\u001b[0m\u001b[0;34m:\u001b[0m\u001b[0;34m\u001b[0m\u001b[0;34m\u001b[0m\u001b[0m\n\u001b[0m\u001b[1;32m   2971\u001b[0m             \u001b[0;32mreturn\u001b[0m \u001b[0mself\u001b[0m\u001b[0;34m.\u001b[0m\u001b[0m_getitem_bool_array\u001b[0m\u001b[0;34m(\u001b[0m\u001b[0mkey\u001b[0m\u001b[0;34m)\u001b[0m\u001b[0;34m\u001b[0m\u001b[0;34m\u001b[0m\u001b[0m\n\u001b[1;32m   2972\u001b[0m \u001b[0;34m\u001b[0m\u001b[0m\n",
      "\u001b[0;32m~/anaconda3/lib/python3.7/site-packages/pandas/core/common.py\u001b[0m in \u001b[0;36mis_bool_indexer\u001b[0;34m(key)\u001b[0m\n\u001b[1;32m    128\u001b[0m             \u001b[0;32mif\u001b[0m \u001b[0;32mnot\u001b[0m \u001b[0mlib\u001b[0m\u001b[0;34m.\u001b[0m\u001b[0mis_bool_array\u001b[0m\u001b[0;34m(\u001b[0m\u001b[0mkey\u001b[0m\u001b[0;34m)\u001b[0m\u001b[0;34m:\u001b[0m\u001b[0;34m\u001b[0m\u001b[0;34m\u001b[0m\u001b[0m\n\u001b[1;32m    129\u001b[0m                 \u001b[0;32mif\u001b[0m \u001b[0misna\u001b[0m\u001b[0;34m(\u001b[0m\u001b[0mkey\u001b[0m\u001b[0;34m)\u001b[0m\u001b[0;34m.\u001b[0m\u001b[0many\u001b[0m\u001b[0;34m(\u001b[0m\u001b[0;34m)\u001b[0m\u001b[0;34m:\u001b[0m\u001b[0;34m\u001b[0m\u001b[0;34m\u001b[0m\u001b[0m\n\u001b[0;32m--> 130\u001b[0;31m                     \u001b[0;32mraise\u001b[0m \u001b[0mValueError\u001b[0m\u001b[0;34m(\u001b[0m\u001b[0mna_msg\u001b[0m\u001b[0;34m)\u001b[0m\u001b[0;34m\u001b[0m\u001b[0;34m\u001b[0m\u001b[0m\n\u001b[0m\u001b[1;32m    131\u001b[0m                 \u001b[0;32mreturn\u001b[0m \u001b[0;32mFalse\u001b[0m\u001b[0;34m\u001b[0m\u001b[0;34m\u001b[0m\u001b[0m\n\u001b[1;32m    132\u001b[0m             \u001b[0;32mreturn\u001b[0m \u001b[0;32mTrue\u001b[0m\u001b[0;34m\u001b[0m\u001b[0;34m\u001b[0m\u001b[0m\n",
      "\u001b[0;31mValueError\u001b[0m: cannot index with vector containing NA / NaN values"
     ]
    }
   ],
   "source": [
    "df[ df[\"Affiliations\"].str.contains(\"GWR\") ]"
   ]
  },
  {
   "cell_type": "code",
   "execution_count": 46,
   "metadata": {},
   "outputs": [],
   "source": [
    "df = df.fillna(\"\")"
   ]
  },
  {
   "cell_type": "code",
   "execution_count": 47,
   "metadata": {},
   "outputs": [
    {
     "data": {
      "text/html": [
       "<div>\n",
       "<style scoped>\n",
       "    .dataframe tbody tr th:only-of-type {\n",
       "        vertical-align: middle;\n",
       "    }\n",
       "\n",
       "    .dataframe tbody tr th {\n",
       "        vertical-align: top;\n",
       "    }\n",
       "\n",
       "    .dataframe thead th {\n",
       "        text-align: right;\n",
       "    }\n",
       "</style>\n",
       "<table border=\"1\" class=\"dataframe\">\n",
       "  <thead>\n",
       "    <tr style=\"text-align: right;\">\n",
       "      <th></th>\n",
       "      <th>ID</th>\n",
       "      <th>Name</th>\n",
       "      <th>Affiliations</th>\n",
       "      <th>Biography</th>\n",
       "      <th>Invested</th>\n",
       "    </tr>\n",
       "  </thead>\n",
       "  <tbody>\n",
       "    <tr>\n",
       "      <td>0</td>\n",
       "      <td>P8041475</td>\n",
       "      <td>William Edward Acraman</td>\n",
       "      <td>BCC:GWR</td>\n",
       "      <td>William Edward Acraman.  Bristol iron-monger, ...</td>\n",
       "      <td>416.56</td>\n",
       "    </tr>\n",
       "    <tr>\n",
       "      <td>1</td>\n",
       "      <td>Pe822a27</td>\n",
       "      <td>William Bruce Adair</td>\n",
       "      <td></td>\n",
       "      <td>William Bruce Adair.  Shareholder in the Great...</td>\n",
       "      <td>43.04</td>\n",
       "    </tr>\n",
       "    <tr>\n",
       "      <td>2</td>\n",
       "      <td>P5a180b0</td>\n",
       "      <td>Thomas Kington Bayly</td>\n",
       "      <td></td>\n",
       "      <td>Thomas Kington Bayly.  Business Partner and ne...</td>\n",
       "      <td>424.12</td>\n",
       "    </tr>\n",
       "    <tr>\n",
       "      <td>3</td>\n",
       "      <td>P4fe27a3</td>\n",
       "      <td>Thomas Baynton</td>\n",
       "      <td></td>\n",
       "      <td>Thomas Baynton. Shareholder in the Great Weste...</td>\n",
       "      <td>130.34</td>\n",
       "    </tr>\n",
       "    <tr>\n",
       "      <td>4</td>\n",
       "      <td>P1592273</td>\n",
       "      <td>Robert Bright</td>\n",
       "      <td>BCC:GWR</td>\n",
       "      <td>Robert Bright.  Member of Bristol merchant fam...</td>\n",
       "      <td>367.96</td>\n",
       "    </tr>\n",
       "  </tbody>\n",
       "</table>\n",
       "</div>"
      ],
      "text/plain": [
       "         ID                    Name Affiliations  \\\n",
       "0  P8041475  William Edward Acraman      BCC:GWR   \n",
       "1  Pe822a27     William Bruce Adair                \n",
       "2  P5a180b0    Thomas Kington Bayly                \n",
       "3  P4fe27a3          Thomas Baynton                \n",
       "4  P1592273           Robert Bright      BCC:GWR   \n",
       "\n",
       "                                           Biography  Invested  \n",
       "0  William Edward Acraman.  Bristol iron-monger, ...    416.56  \n",
       "1  William Bruce Adair.  Shareholder in the Great...     43.04  \n",
       "2  Thomas Kington Bayly.  Business Partner and ne...    424.12  \n",
       "3  Thomas Baynton. Shareholder in the Great Weste...    130.34  \n",
       "4  Robert Bright.  Member of Bristol merchant fam...    367.96  "
      ]
     },
     "execution_count": 47,
     "metadata": {},
     "output_type": "execute_result"
    }
   ],
   "source": [
    "df.head()"
   ]
  },
  {
   "cell_type": "code",
   "execution_count": 48,
   "metadata": {},
   "outputs": [
    {
     "data": {
      "text/html": [
       "<div>\n",
       "<style scoped>\n",
       "    .dataframe tbody tr th:only-of-type {\n",
       "        vertical-align: middle;\n",
       "    }\n",
       "\n",
       "    .dataframe tbody tr th {\n",
       "        vertical-align: top;\n",
       "    }\n",
       "\n",
       "    .dataframe thead th {\n",
       "        text-align: right;\n",
       "    }\n",
       "</style>\n",
       "<table border=\"1\" class=\"dataframe\">\n",
       "  <thead>\n",
       "    <tr style=\"text-align: right;\">\n",
       "      <th></th>\n",
       "      <th>ID</th>\n",
       "      <th>Name</th>\n",
       "      <th>Affiliations</th>\n",
       "      <th>Biography</th>\n",
       "      <th>Invested</th>\n",
       "    </tr>\n",
       "  </thead>\n",
       "  <tbody>\n",
       "    <tr>\n",
       "      <td>0</td>\n",
       "      <td>P8041475</td>\n",
       "      <td>William Edward Acraman</td>\n",
       "      <td>BCC:GWR</td>\n",
       "      <td>William Edward Acraman.  Bristol iron-monger, ...</td>\n",
       "      <td>416.56</td>\n",
       "    </tr>\n",
       "    <tr>\n",
       "      <td>4</td>\n",
       "      <td>P1592273</td>\n",
       "      <td>Robert Bright</td>\n",
       "      <td>BCC:GWR</td>\n",
       "      <td>Robert Bright.  Member of Bristol merchant fam...</td>\n",
       "      <td>367.96</td>\n",
       "    </tr>\n",
       "    <tr>\n",
       "      <td>5</td>\n",
       "      <td>Pbb00e87</td>\n",
       "      <td>Isambard Kingdom Brunel</td>\n",
       "      <td>BDC:GWR</td>\n",
       "      <td>Isambard Kingdom Brunel.  Consulting engineer ...</td>\n",
       "      <td>994.70</td>\n",
       "    </tr>\n",
       "    <tr>\n",
       "      <td>6</td>\n",
       "      <td>Pf6d1fb4</td>\n",
       "      <td>Henry Bush</td>\n",
       "      <td>BCC:GWR</td>\n",
       "      <td>Henry Bush.  Member of Bristol merchant family...</td>\n",
       "      <td>948.74</td>\n",
       "    </tr>\n",
       "    <tr>\n",
       "      <td>21</td>\n",
       "      <td>P58d164c</td>\n",
       "      <td>Charles Fripp</td>\n",
       "      <td>BCC:GWR</td>\n",
       "      <td>Charles Bowles Fripp.  Member of Bristol Chamb...</td>\n",
       "      <td>505.08</td>\n",
       "    </tr>\n",
       "    <tr>\n",
       "      <td>22</td>\n",
       "      <td>P88a8ad4</td>\n",
       "      <td>George H. Gibbs</td>\n",
       "      <td>BCC:GWR</td>\n",
       "      <td>George Henry Gibbs.  Member of merchant family...</td>\n",
       "      <td>0.00</td>\n",
       "    </tr>\n",
       "    <tr>\n",
       "      <td>24</td>\n",
       "      <td>P68252e3</td>\n",
       "      <td>Thomas Guppy</td>\n",
       "      <td>BCC:BDC:GWR</td>\n",
       "      <td>Thomas Guppy.  Bristol sugar merchant and manu...</td>\n",
       "      <td>751.96</td>\n",
       "    </tr>\n",
       "    <tr>\n",
       "      <td>28</td>\n",
       "      <td>P97842ba</td>\n",
       "      <td>John Harford</td>\n",
       "      <td>BCC:GWR</td>\n",
       "      <td>John Harford.  Partner of Philip John Miles in...</td>\n",
       "      <td>149.79</td>\n",
       "    </tr>\n",
       "    <tr>\n",
       "      <td>37</td>\n",
       "      <td>P84330a8</td>\n",
       "      <td>Peter Maze (the elder)</td>\n",
       "      <td>BCC:BDC:GWR</td>\n",
       "      <td>Peter Maze.  Vice President of Bristol Chamber...</td>\n",
       "      <td>317.44</td>\n",
       "    </tr>\n",
       "    <tr>\n",
       "      <td>40</td>\n",
       "      <td>P57bda72</td>\n",
       "      <td>Thomas Pycroft</td>\n",
       "      <td>GWR</td>\n",
       "      <td>Thomas Pycroft.  Bath-based barrister and shar...</td>\n",
       "      <td>654.93</td>\n",
       "    </tr>\n",
       "    <tr>\n",
       "      <td>42</td>\n",
       "      <td>Pae0912e</td>\n",
       "      <td>Robert Scott</td>\n",
       "      <td>GWR</td>\n",
       "      <td>Robert Scott.  Prominent Bath-based businessma...</td>\n",
       "      <td>399.32</td>\n",
       "    </tr>\n",
       "    <tr>\n",
       "      <td>47</td>\n",
       "      <td>Pfef357c</td>\n",
       "      <td>John Vining</td>\n",
       "      <td>GWR</td>\n",
       "      <td>John Vining.  Member of Bristol Chamber of Com...</td>\n",
       "      <td>805.34</td>\n",
       "    </tr>\n",
       "    <tr>\n",
       "      <td>51</td>\n",
       "      <td>P0ad5108</td>\n",
       "      <td>Robert Young</td>\n",
       "      <td>GWR</td>\n",
       "      <td>Robert Young.  Marine engineer and mutual corr...</td>\n",
       "      <td>63.28</td>\n",
       "    </tr>\n",
       "    <tr>\n",
       "      <td>71</td>\n",
       "      <td>P2ac1cdd</td>\n",
       "      <td>Mr. Stedder</td>\n",
       "      <td>GWR</td>\n",
       "      <td>Mr Stedder.  Bath-based investor in Great West...</td>\n",
       "      <td>328.36</td>\n",
       "    </tr>\n",
       "  </tbody>\n",
       "</table>\n",
       "</div>"
      ],
      "text/plain": [
       "          ID                     Name Affiliations  \\\n",
       "0   P8041475   William Edward Acraman      BCC:GWR   \n",
       "4   P1592273            Robert Bright      BCC:GWR   \n",
       "5   Pbb00e87  Isambard Kingdom Brunel      BDC:GWR   \n",
       "6   Pf6d1fb4               Henry Bush      BCC:GWR   \n",
       "21  P58d164c            Charles Fripp      BCC:GWR   \n",
       "22  P88a8ad4          George H. Gibbs      BCC:GWR   \n",
       "24  P68252e3             Thomas Guppy  BCC:BDC:GWR   \n",
       "28  P97842ba             John Harford      BCC:GWR   \n",
       "37  P84330a8   Peter Maze (the elder)  BCC:BDC:GWR   \n",
       "40  P57bda72           Thomas Pycroft          GWR   \n",
       "42  Pae0912e             Robert Scott          GWR   \n",
       "47  Pfef357c              John Vining          GWR   \n",
       "51  P0ad5108             Robert Young          GWR   \n",
       "71  P2ac1cdd              Mr. Stedder          GWR   \n",
       "\n",
       "                                            Biography  Invested  \n",
       "0   William Edward Acraman.  Bristol iron-monger, ...    416.56  \n",
       "4   Robert Bright.  Member of Bristol merchant fam...    367.96  \n",
       "5   Isambard Kingdom Brunel.  Consulting engineer ...    994.70  \n",
       "6   Henry Bush.  Member of Bristol merchant family...    948.74  \n",
       "21  Charles Bowles Fripp.  Member of Bristol Chamb...    505.08  \n",
       "22  George Henry Gibbs.  Member of merchant family...      0.00  \n",
       "24  Thomas Guppy.  Bristol sugar merchant and manu...    751.96  \n",
       "28  John Harford.  Partner of Philip John Miles in...    149.79  \n",
       "37  Peter Maze.  Vice President of Bristol Chamber...    317.44  \n",
       "40  Thomas Pycroft.  Bath-based barrister and shar...    654.93  \n",
       "42  Robert Scott.  Prominent Bath-based businessma...    399.32  \n",
       "47  John Vining.  Member of Bristol Chamber of Com...    805.34  \n",
       "51  Robert Young.  Marine engineer and mutual corr...     63.28  \n",
       "71  Mr Stedder.  Bath-based investor in Great West...    328.36  "
      ]
     },
     "execution_count": 48,
     "metadata": {},
     "output_type": "execute_result"
    }
   ],
   "source": [
    "df[ df[\"Affiliations\"].str.contains(\"GWR\") ]"
   ]
  },
  {
   "cell_type": "code",
   "execution_count": 49,
   "metadata": {},
   "outputs": [
    {
     "data": {
      "text/plain": [
       "6703.459999999999"
      ]
     },
     "execution_count": 49,
     "metadata": {},
     "output_type": "execute_result"
    }
   ],
   "source": [
    "df[ df[\"Affiliations\"].str.contains(\"GWR\") ][\"Invested\"].sum()"
   ]
  },
  {
   "cell_type": "code",
   "execution_count": 50,
   "metadata": {},
   "outputs": [
    {
     "name": "stdout",
     "output_type": "stream",
     "text": [
      "B&A 621.89\n",
      "BCC 8579.99\n",
      "BDC 3032.85\n",
      "GWR 6703.459999999999\n",
      "RN 2568.9900000000002\n",
      "SMV 192.28\n"
     ]
    }
   ],
   "source": [
    "for affiliation in [\"B&A\", \"BCC\", \"BDC\", \"GWR\", \"RN\", \"SMV\"]:\n",
    "    print(affiliation, df[ df[\"Affiliations\"].str.contains(affiliation) ][\"Invested\"].sum())"
   ]
  },
  {
   "cell_type": "code",
   "execution_count": 51,
   "metadata": {},
   "outputs": [],
   "source": [
    "data = {\"Affiliation\": [], \"Invested\": []}\n",
    "\n",
    "for affiliation in [\"B&A\", \"BCC\", \"BDC\", \"GWR\", \"RN\", \"SMV\"]:\n",
    "    data[\"Affiliation\"].append(affiliation)\n",
    "    data[\"Invested\"].append(df[ df[\"Affiliations\"].str.contains(affiliation) ][\"Invested\"].sum())"
   ]
  },
  {
   "cell_type": "code",
   "execution_count": 53,
   "metadata": {},
   "outputs": [
    {
     "data": {
      "text/plain": [
       "<matplotlib.axes._subplots.AxesSubplot at 0x11fc894d0>"
      ]
     },
     "execution_count": 53,
     "metadata": {},
     "output_type": "execute_result"
    },
    {
     "data": {
      "image/png": "[encoded data removed]",
      "text/plain": [
       "<Figure size 432x288 with 1 Axes>"
      ]
     },
     "metadata": {
      "needs_background": "light"
     },
     "output_type": "display_data"
    }
   ],
   "source": [
    "pd.DataFrame(data).plot.bar(x=\"Affiliation\", y=\"Invested\")"
   ]
  },
  {
   "cell_type": "code",
   "execution_count": null,
   "metadata": {},
   "outputs": [],
   "source": []
  }
 ],
 "metadata": {
  "kernelspec": {
   "display_name": "Python 3",
   "language": "python",
   "name": "python3"
  },
  "language_info": {
   "codemirror_mode": {
    "name": "ipython",
    "version": 3
   },
   "file_extension": ".py",
   "mimetype": "text/x-python",
   "name": "python",
   "nbconvert_exporter": "python",
   "pygments_lexer": "ipython3",
   "version": "3.7.4"
  }
 },
 "nbformat": 4,
 "nbformat_minor": 2
}
